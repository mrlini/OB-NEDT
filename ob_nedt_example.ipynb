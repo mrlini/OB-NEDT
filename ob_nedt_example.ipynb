{
 "cells": [
  {
   "cell_type": "markdown",
   "id": "06387208-da22-4eb9-a142-05aaafc103ae",
   "metadata": {},
   "source": [
    "# Log-loss boosting optimization with a Nash Equilibrium decision tree"
   ]
  },
  {
   "cell_type": "markdown",
   "id": "4ceac234-a0d2-4e7f-bed5-78f6ebdf18b3",
   "metadata": {},
   "source": [
    "This notebook gives an example on how to use __Optimized Boosting Nash Equilibrium Decision Tree (OB-NEDT)__ as a classifier."
   ]
  },
  {
   "cell_type": "markdown",
   "id": "77c34c95-cad1-4780-ae2e-a11e0743824f",
   "metadata": {},
   "source": [
    "## generate some test data"
   ]
  },
  {
   "cell_type": "markdown",
   "id": "c1dc5fdc-3157-4aaa-8ead-9d552efeb74b",
   "metadata": {},
   "source": [
    "- using sklearn make_classification"
   ]
  },
  {
   "cell_type": "code",
   "execution_count": 1,
   "id": "74102fbe-0f87-453e-9f1c-423864592833",
   "metadata": {},
   "outputs": [],
   "source": [
    "from sklearn.datasets import make_classification"
   ]
  },
  {
   "cell_type": "code",
   "execution_count": 2,
   "id": "adc6f4f4-ecc8-41b5-aa0d-dd3b7f74f68f",
   "metadata": {},
   "outputs": [],
   "source": [
    "X, y = make_classification(\n",
    "        n_samples=100,\n",
    "        n_features=2,\n",
    "        n_redundant=0,\n",
    "        n_informative=2,\n",
    "        n_classes=2,\n",
    "        random_state=42,\n",
    "        class_sep=0.1,\n",
    "        weights=[0.5],\n",
    "    )"
   ]
  },
  {
   "cell_type": "code",
   "execution_count": 3,
   "id": "2d56b62e-b289-41d6-85a7-e53c0f0f5d31",
   "metadata": {},
   "outputs": [],
   "source": [
    "from sklearn.model_selection import train_test_split"
   ]
  },
  {
   "cell_type": "code",
   "execution_count": 4,
   "id": "6e326c92-9cae-4895-b989-6406cf8889c8",
   "metadata": {},
   "outputs": [],
   "source": [
    "X_train, X_test, y_train, y_test = train_test_split(X, y, test_size=0.33, random_state=123)"
   ]
  },
  {
   "cell_type": "markdown",
   "id": "7b4b04de-375d-48b9-be4f-7109bafdbe82",
   "metadata": {},
   "source": [
    "## run OB-NEDT"
   ]
  },
  {
   "cell_type": "code",
   "execution_count": 5,
   "id": "7d8a3631-8fe0-47ca-89ca-05298352020b",
   "metadata": {},
   "outputs": [],
   "source": [
    "from ob_nedt import run_ob_nedt\n",
    "from sklearn.metrics import accuracy_score, f1_score, log_loss, roc_auc_score"
   ]
  },
  {
   "cell_type": "code",
   "execution_count": 6,
   "id": "c52f26dc-b91f-4c97-b998-e1916792c401",
   "metadata": {},
   "outputs": [
    {
     "name": "stdout",
     "output_type": "stream",
     "text": [
      "results:\n",
      "- roc_auc_score:\t 0.6617647058823529\n",
      "- accuracy_score:\t 0.5757575757575758\n",
      "- f1_score:\t\t 0.5625\n",
      "- log_loss:\t\t 1.7367762646722298\n"
     ]
    }
   ],
   "source": [
    "nedt_pred, nedt_pred_prob = run_ob_nedt(\n",
    "        X_train,\n",
    "        X_test,\n",
    "        y_train,\n",
    "        n_estimators_rf=10,\n",
    "        n_subset_var_rf=0.7,\n",
    "        sample_size_tree=0.7,\n",
    "        split_criterion_tree=\"gini\",\n",
    "        max_depth_tree=5,\n",
    "        game_tree=True,\n",
    "        k_quantile_zero_tree=0.2,\n",
    "    )\n",
    "rez_auc = roc_auc_score(y_test, nedt_pred_prob)\n",
    "rez_acc = accuracy_score(y_test, nedt_pred)\n",
    "rez_f1 = f1_score(y_test, nedt_pred)\n",
    "rez_log_loss = log_loss(y_test, nedt_pred_prob)\n",
    "print(f\"results:\\n- roc_auc_score:\\t {rez_auc}\")\n",
    "print(f\"- accuracy_score:\\t {rez_acc}\")\n",
    "print(f\"- f1_score:\\t\\t {rez_f1}\")\n",
    "print(f\"- log_loss:\\t\\t {rez_log_loss}\")"
   ]
  },
  {
   "cell_type": "code",
   "execution_count": null,
   "id": "db3ef787-f516-4597-bedc-f052b3acde23",
   "metadata": {},
   "outputs": [],
   "source": []
  }
 ],
 "metadata": {
  "kernelspec": {
   "display_name": "frog_dt",
   "language": "python",
   "name": "frog_dt"
  },
  "language_info": {
   "codemirror_mode": {
    "name": "ipython",
    "version": 3
   },
   "file_extension": ".py",
   "mimetype": "text/x-python",
   "name": "python",
   "nbconvert_exporter": "python",
   "pygments_lexer": "ipython3",
   "version": "3.12.2"
  }
 },
 "nbformat": 4,
 "nbformat_minor": 5
}
